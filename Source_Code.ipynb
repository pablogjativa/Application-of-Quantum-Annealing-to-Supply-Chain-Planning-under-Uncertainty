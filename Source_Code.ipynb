{
 "cells": [
  {
   "cell_type": "code",
   "execution_count": 118,
   "metadata": {},
   "outputs": [],
   "source": [
    "import dimod\n",
    "import neal\n",
    "import math\n",
    "from pyqubo import Array, Placeholder, solve_qubo, Constraint\n",
    "from dwave.system.samplers import DWaveSampler\n",
    "from dwave.system.composites import EmbeddingComposite\n",
    "\n",
    "import matplotlib.pyplot as plt\n",
    "import numpy as np\n",
    "from collections import Counter\n",
    "import pandas as pd"
   ]
  },
  {
   "attachments": {},
   "cell_type": "markdown",
   "metadata": {},
   "source": [
    "## Graphics"
   ]
  },
  {
   "cell_type": "code",
   "execution_count": 119,
   "metadata": {},
   "outputs": [],
   "source": [
    "def plot_enumerate(results, title=None):\n",
    "    plt.figure()\n",
    "    energies = [datum.energy for datum in results.data(\n",
    "        ['energy'], sorted_by=None)]\n",
    "    \n",
    "    if results.vartype == 'Vartype.BINARY':\n",
    "        samples = [''.join(c for c in str(datum.sample.values()).strip(\n",
    "            ', ') if c.isdigit()) for datum in results.data(['sample'], sorted_by=None)]\n",
    "        plt.xlabel('bitstring for solution')\n",
    "    else:\n",
    "        samples = np.arange(len(energies))\n",
    "        plt.xlabel('Solution')\n",
    "\n",
    "    plt.bar(samples,energies)\n",
    "    plt.xticks(rotation=90)\n",
    "    plt.ylabel('Energy')\n",
    "    print(\"minimum energy:\", min(energies))\n",
    "\n",
    "\n",
    "def plot_energies(results, title=None):\n",
    "    energies = results.data_vectors['energy']\n",
    "    occurrences = results.data_vectors['num_occurrences']\n",
    "    counts = Counter(energies)\n",
    "    total = sum(occurrences)\n",
    "    counts = {}\n",
    "    for index, energy in enumerate(energies):\n",
    "        if energy in counts.keys():\n",
    "            counts[energy] += occurrences[index]\n",
    "        else:\n",
    "            counts[energy] = occurrences[index]\n",
    "    for key in counts:\n",
    "        counts[key] /= total\n",
    "    df = pd.DataFrame.from_dict(counts, orient='index').sort_index()\n",
    "    df.plot(kind='bar', legend=None)\n",
    "\n",
    "    plt.xlabel('Energy')\n",
    "    plt.ylabel('Probabilities')\n",
    "    # plt.title(str(title))\n",
    "    plt.show()\n",
    "    print(\"minimum energy:\", min(energies))"
   ]
  },
  {
   "attachments": {},
   "cell_type": "markdown",
   "metadata": {},
   "source": [
    "## Parameters"
   ]
  },
  {
   "cell_type": "code",
   "execution_count": 120,
   "metadata": {},
   "outputs": [],
   "source": [
    "T = 5 # number of days\n",
    "M = 1 # number of materials\n",
    "S = 1 # ship models\n",
    "\n",
    "C = {} # material consumptions\n",
    "C[0] = [2] # material consumptions for day 0 (length M)\n",
    "C[1] = [2] # material consumptions for day 1 (length M)\n",
    "C[2] = [2] # material consumptions for day 2 (length M)\n",
    "C[3] = [2] # material consumptions for day 3 (length M)\n",
    "C[4] = [2] # material consumptions for day 4 (length M)\n",
    "\n",
    "B = {} # ship capacities\n",
    "B[0] = [3] # ship capacities for material 0 (length S)\n",
    "\n",
    "n = {} # time units required for a journey\n",
    "n[0] = [2] # time units required for a journey for material 0 (length S)\n",
    "\n",
    "# Initialize Stock\n",
    "S0 = [6] # initial stock per material\n",
    "SF = [2] # minimum final stock per material\n",
    "Y = 2 # maximum stockout\n",
    "a = math.ceil(math.log(Y+1,2))\n",
    "Z = 6   # maximum stock\n",
    "b = math.ceil(math.log(Z+1,2))\n",
    "\n",
    "# Costs\n",
    "c_inv = [5] # inventary costs per material\n",
    "c_so = 100 # stockout cost\n",
    "c_ship = {} # transportation costs\n",
    "c_ship[0] = [20] # transportation costs for material 0 (length S)\n",
    "\n",
    "# Uncertainty parameters\n",
    "Delta_t = {}\n",
    "Delta_t[0,0] = [-1,0,1] # possible uncertainties for material 0 and model 0 (one list per material and ship model)\n",
    "Prob = {}\n",
    "Prob[0,0] = [0,1,0] # uncertainty probabilities for material 0 and model 0 (one list per material and ship model)\n"
   ]
  },
  {
   "attachments": {},
   "cell_type": "markdown",
   "metadata": {},
   "source": [
    "## Hamiltonian construction"
   ]
  },
  {
   "cell_type": "code",
   "execution_count": 121,
   "metadata": {},
   "outputs": [],
   "source": [
    "# Initialize variable vector\n",
    "size_of_variable_array = T*M*S+T*M*a+T*M*b\n",
    "var = Array.create('vector', size_of_variable_array,'BINARY')\n",
    "\n",
    "# Calculate terms encoding the cost function\n",
    "cost_terms = {}\n",
    "cost_terms[0] = 0\n",
    "for tau in range(T) :\n",
    "    for m in range(M) :\n",
    "        for j in range(a) :\n",
    "            cost_terms[0] += c_so*2**j*var[T*M*S+tau*M*a+m*a+j]\n",
    "\n",
    "cost_terms[1] = 0\n",
    "for tau in range(T) :\n",
    "    for m in range(M) :\n",
    "        cost_terms[1] += c_inv[m]*S0[m] \n",
    "        for tau_2 in range(tau+1) :\n",
    "            cost_terms[1] += -c_inv[m]*C[tau][m]\n",
    "            for j in range(a) :\n",
    "                cost_terms[1] += c_inv[m]*2**j*var[T*M*S+tau_2*M*a+m*a+j]\n",
    "            for s in range(S) :\n",
    "                cont = 0\n",
    "                for t in Delta_t[m,s] :\n",
    "                    if tau_2-t in range(T) :\n",
    "                        cost_terms[1] += c_inv[m]*round(Prob[m,s][cont]*B[m][s])*var[M*S*(tau_2-t)+S*m+s]\n",
    "                    cont += 1\n",
    "\n",
    "\n",
    "cost_terms[2] = 0\n",
    "for tau in range(T) :\n",
    "    for m in range(M) :\n",
    "        for s in range(S) :\n",
    "            cost_terms[2] += c_ship[m][s]*var[M*S*tau+S*m+s]\n",
    "\n",
    "# Calculate terms encoding the constraints\n",
    "constraint_terms = {}\n",
    "constraint_terms[0] = 0\n",
    "for tau in range(T) :\n",
    "    for m in range(M) :\n",
    "        for m2 in range(m,M) :\n",
    "            for s in range(S) :\n",
    "                for s2 in range(s,S) :\n",
    "                    cont1 = 0\n",
    "                    for t in Delta_t[m,s] :\n",
    "                        cont2 = 0\n",
    "                        for t2 in Delta_t[m2,s2] :\n",
    "                            if tau-t in range(T) and tau-t2 in range(T) and [m,s] != [m2,s2] :\n",
    "                                constraint_terms[0] += Prob[m,s][cont1]*Prob[m2,s2][cont2]*var[M*S*(tau-t)+S*m+s]*var[M*S*(tau-t2)+S*m2+s2]\n",
    "                            cont1 += 1\n",
    "                            cont2 += 1\n",
    "\n",
    "constraint_terms[1] = 0\n",
    "for m in range(M) :\n",
    "    for s in range(S) :\n",
    "        for tau in range(n[m][s]) :\n",
    "            constraint_terms[1] += var[M*S*tau+S*m+s]\n",
    "\n",
    "constraint_terms[2] = 0\n",
    "for m in range(M) :\n",
    "    constraint_term_sqrt = 0\n",
    "    constraint_term_sqrt += S0[m]-SF[m]\n",
    "    for tau in range(T) :\n",
    "        constraint_term_sqrt += -C[tau][m]\n",
    "        for j in range(a) :\n",
    "                constraint_term_sqrt += 2**j*var[T*M*S+tau*M*a+m*a+j]\n",
    "        for s in range(S) :\n",
    "                constraint_term_sqrt += B[m][s]*var[M*S*tau+S*m+s]\n",
    "    for j in range(b) :\n",
    "        constraint_term_sqrt += -2**j*var[T*M*S+T*M*a+(T-1)*M*b+m*b+j]\n",
    "    constraint_terms[2] += constraint_term_sqrt**2\n",
    "\n",
    "constraint_terms[3] = 0\n",
    "for tau in range(T-1) :\n",
    "    for m in range(M) :\n",
    "        constraint_term_sqrt = 0\n",
    "        constraint_term_sqrt += S0[m]    \n",
    "        for tau_2 in range(tau) :\n",
    "            constraint_term_sqrt += -C[tau_2][m]\n",
    "            for j in range(a) :\n",
    "                constraint_term_sqrt += 2**j*var[T*M*S+tau_2*M*a+m*a+j]\n",
    "            for s in range(S) :\n",
    "                cont = 0\n",
    "                for t in Delta_t[m,s] :\n",
    "                    if tau_2-t in range(T) :\n",
    "                        constraint_term_sqrt += round(Prob[m,s][cont]*B[m][s])*var[M*S*(tau_2-t)+S*m+s]\n",
    "                    cont += 1\n",
    "        constraint_term_sqrt += -C[tau][m]\n",
    "        for j in range(a) :\n",
    "            constraint_term_sqrt += 2**j*var[T*M*S+tau*M*a+m*a+j]\n",
    "        for j in range(b) :\n",
    "            constraint_term_sqrt += -2**j*var[T*M*S+T*M*a+tau*M*b+m*b+j]\n",
    "        for s in range(S) :\n",
    "            cont = 0\n",
    "            for t in Delta_t[m,s] :\n",
    "                if tau-t in range(T) :\n",
    "                    constraint_term_sqrt += round(Prob[m,s][cont]*B[m][s])*var[M*S*(tau-t)+S*m+s]\n",
    "                cont += 1\n",
    "        constraint_terms[3] += constraint_term_sqrt**2\n",
    "\n",
    "constraint_terms[4] = 0\n",
    "for m in range(M) :\n",
    "    constraint_term_sqrt = 0\n",
    "    constraint_term_sqrt += S0[m]-SF[m]    \n",
    "    for tau in range(T-1) :\n",
    "        constraint_term_sqrt += -C[tau][m]\n",
    "        for j in range(a) :\n",
    "            constraint_term_sqrt += 2**j*var[T*M*S+tau*M*a+m*a+j]\n",
    "        for s in range(S) :\n",
    "            cont = 0\n",
    "            for t in Delta_t[m,s] :\n",
    "                if tau-t in range(T) :\n",
    "                    constraint_term_sqrt += round(Prob[m,s][cont]*B[m][s])*var[M*S*(tau-t)+S*m+s]\n",
    "                cont += 1\n",
    "    constraint_term_sqrt += -C[T-1][m]\n",
    "    for j in range(a) :\n",
    "        constraint_term_sqrt += 2**j*var[T*M*S+(T-1)*M*a+m*a+j]\n",
    "    for j in range(b) :\n",
    "        constraint_term_sqrt += -2**j*var[T*M*S+T*M*a+(T-1)*M*b+m*b+j]\n",
    "    for s in range(S) :\n",
    "        cont = 0\n",
    "        for t in Delta_t[m,s] :\n",
    "            if T-t-1 in range(T) :\n",
    "                constraint_term_sqrt += round(Prob[m,s][cont]*B[m][s])*var[M*S*(T-t-1)+S*m+s]\n",
    "            cont += 1\n",
    "    constraint_terms[4] += constraint_term_sqrt**2\n",
    "\n",
    "\n",
    "\n",
    "\n",
    "#Build Hamiltonian\n",
    "parameter = 1000\n",
    "H = cost_terms[0]+cost_terms[1]+cost_terms[2]+parameter*(constraint_terms[0]+constraint_terms[1]+constraint_terms[2]+constraint_terms[3]+constraint_terms[4])\n",
    "\n",
    "# Compile the model and generate QUBO\n",
    "model = H.compile()\n",
    "qubo, offset = model.to_qubo()\n",
    "bqm = model.to_bqm()"
   ]
  },
  {
   "attachments": {},
   "cell_type": "markdown",
   "metadata": {},
   "source": [
    "## Simulated annealing"
   ]
  },
  {
   "cell_type": "code",
   "execution_count": 124,
   "metadata": {},
   "outputs": [
    {
     "name": "stdout",
     "output_type": "stream",
     "text": [
      "{'vector[0]': 0, 'vector[1]': 0, 'vector[2]': 0, 'vector[3]': 1, 'vector[4]': 1, 'vector[5]': 0, 'vector[6]': 0, 'vector[7]': 0, 'vector[8]': 0, 'vector[9]': 0, 'vector[10]': 0, 'vector[11]': 0, 'vector[12]': 0, 'vector[13]': 0, 'vector[14]': 0, 'vector[15]': 0, 'vector[16]': 0, 'vector[17]': 1, 'vector[18]': 0, 'vector[19]': 1, 'vector[20]': 0, 'vector[21]': 0, 'vector[22]': 0, 'vector[23]': 0, 'vector[24]': 1, 'vector[25]': 0, 'vector[26]': 0, 'vector[27]': 0, 'vector[28]': 0, 'vector[29]': 0}\n",
      "minimum energy: 85.0\n"
     ]
    },
    {
     "data": {
      "image/png": "[encoded data removed]",
      "text/plain": [
       "<Figure size 640x480 with 1 Axes>"
      ]
     },
     "metadata": {},
     "output_type": "display_data"
    },
    {
     "data": {
      "image/png": "[encoded data removed]",
      "text/plain": [
       "<Figure size 640x480 with 1 Axes>"
      ]
     },
     "metadata": {},
     "output_type": "display_data"
    },
    {
     "name": "stdout",
     "output_type": "stream",
     "text": [
      "minimum energy: 85.0\n"
     ]
    }
   ],
   "source": [
    "sa = neal.SimulatedAnnealingSampler()\n",
    "sampleset = sa.sample(bqm, num_reads=500)\n",
    "decoded_samples = model.decode_sampleset(sampleset)\n",
    "best_sample = {k: v for k, v in sorted(sampleset.first.sample.items(), key=lambda item: int(item[0][7:-1]))}\n",
    "print(best_sample)\n",
    "plot_enumerate(sampleset)\n",
    "plot_energies(sampleset)"
   ]
  }
 ],
 "metadata": {
  "kernelspec": {
   "display_name": "base",
   "language": "python",
   "name": "python3"
  },
  "language_info": {
   "codemirror_mode": {
    "name": "ipython",
    "version": 3
   },
   "file_extension": ".py",
   "mimetype": "text/x-python",
   "name": "python",
   "nbconvert_exporter": "python",
   "pygments_lexer": "ipython3",
   "version": "3.9.13"
  },
  "orig_nbformat": 4,
  "vscode": {
   "interpreter": {
    "hash": "b2e652f635080af47a587503e30de6976439f49ada01b3349f0f0746ac93a74c"
   }
  }
 },
 "nbformat": 4,
 "nbformat_minor": 2
}
